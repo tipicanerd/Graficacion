{
 "cells": [
  {
   "cell_type": "code",
   "execution_count": 1,
   "id": "e3d79f92",
   "metadata": {},
   "outputs": [],
   "source": [
    "import numpy as np"
   ]
  },
  {
   "cell_type": "code",
   "execution_count": 2,
   "id": "8789ab14",
   "metadata": {},
   "outputs": [],
   "source": [
    "vertices=[\n",
    "    (1.5, -1, -1), (1.5, 1, -1), (-1.5, 1, -1), (-1.5, -1, -1),\n",
    "    (-1.5, -1, 1), (1.5, -1, 1), (1.5, 1, 1), (-1.5 ,1 ,1)\n",
    "    ]\n",
    "\n",
    "#La lista de las caras con el indice de los vertices que las conforman\n",
    "caras = [\n",
    "    (0, 1, 2, 3), #Cara trasera\n",
    "    (3, 4, 5, 0), #Cara inferior\n",
    "    (0, 1, 6, 5), #cara derecha\n",
    "    (6, 1, 2, 7), #Cara superior\n",
    "    (4, 7, 2, 3), #Cara izquierda\n",
    "    (5, 6, 7, 4) #Cara delantera\n",
    "]\n",
    "\n",
    "\n",
    "#Lista de las normales\n",
    "normales = [\n",
    "    (0.0, 0.0, -1.0), #Cara trasera\n",
    "    (0.0, -1.0, 0.0), #Cara inferior\n",
    "    (1.0, 0.0, 0.0), #Cara derecha\n",
    "    (0.0, 1.0, 0.0), #Cara superior\n",
    "    (-1.0, 0.0, 0.0), #Cara izquierda\n",
    "    (0.0, 0.0, 1.0)  #Cara delantera\n",
    "]\n",
    "\n",
    "#Vertices de texturas\n",
    "vertices_textura = [\n",
    "    (0.0, 0.0),\n",
    "    (-1.0, 0.0),\n",
    "    (-1.0, 1.0),\n",
    "    (0.0, 1.0),\n",
    "]"
   ]
  },
  {
   "cell_type": "code",
   "execution_count": 3,
   "id": "2ded57d7",
   "metadata": {},
   "outputs": [],
   "source": [
    "cuarto = []"
   ]
  },
  {
   "cell_type": "code",
   "execution_count": 4,
   "id": "31360eb1",
   "metadata": {},
   "outputs": [],
   "source": [
    "for i,cara in enumerate(caras[:-1]):\n",
    "    for j,index in enumerate(cara):\n",
    "        cuarto.extend(vertices_textura[j])\n",
    "        cuarto.extend(normales[i])\n",
    "        cuarto.extend(vertices[index])        "
   ]
  },
  {
   "cell_type": "code",
   "execution_count": 5,
   "id": "0cea2b45",
   "metadata": {},
   "outputs": [
    {
     "data": {
      "text/plain": [
       "array([ 0. ,  0. ,  0. ,  0. , -1. ,  1.5, -1. , -1. , -1. ,  0. ,  0. ,\n",
       "        0. , -1. ,  1.5,  1. , -1. , -1. ,  1. ,  0. ,  0. , -1. , -1.5,\n",
       "        1. , -1. ,  0. ,  1. ,  0. ,  0. , -1. , -1.5, -1. , -1. ,  0. ,\n",
       "        0. ,  0. , -1. ,  0. , -1.5, -1. , -1. , -1. ,  0. ,  0. , -1. ,\n",
       "        0. , -1.5, -1. ,  1. , -1. ,  1. ,  0. , -1. ,  0. ,  1.5, -1. ,\n",
       "        1. ,  0. ,  1. ,  0. , -1. ,  0. ,  1.5, -1. , -1. ,  0. ,  0. ,\n",
       "        1. ,  0. ,  0. ,  1.5, -1. , -1. , -1. ,  0. ,  1. ,  0. ,  0. ,\n",
       "        1.5,  1. , -1. , -1. ,  1. ,  1. ,  0. ,  0. ,  1.5,  1. ,  1. ,\n",
       "        0. ,  1. ,  1. ,  0. ,  0. ,  1.5, -1. ,  1. ,  0. ,  0. ,  0. ,\n",
       "        1. ,  0. ,  1.5,  1. ,  1. , -1. ,  0. ,  0. ,  1. ,  0. ,  1.5,\n",
       "        1. , -1. , -1. ,  1. ,  0. ,  1. ,  0. , -1.5,  1. , -1. ,  0. ,\n",
       "        1. ,  0. ,  1. ,  0. , -1.5,  1. ,  1. ,  0. ,  0. , -1. ,  0. ,\n",
       "        0. , -1.5, -1. ,  1. , -1. ,  0. , -1. ,  0. ,  0. , -1.5,  1. ,\n",
       "        1. , -1. ,  1. , -1. ,  0. ,  0. , -1.5,  1. , -1. ,  0. ,  1. ,\n",
       "       -1. ,  0. ,  0. , -1.5, -1. , -1. ], dtype=float32)"
      ]
     },
     "execution_count": 5,
     "metadata": {},
     "output_type": "execute_result"
    }
   ],
   "source": [
    "cuarto = np.array(cuarto,dtype=\"f4\")\n",
    "cuarto"
   ]
  },
  {
   "cell_type": "code",
   "execution_count": 6,
   "id": "88387091",
   "metadata": {},
   "outputs": [
    {
     "data": {
      "text/plain": [
       "(160,)"
      ]
     },
     "execution_count": 6,
     "metadata": {},
     "output_type": "execute_result"
    }
   ],
   "source": [
    "cuarto.shape"
   ]
  },
  {
   "cell_type": "code",
   "execution_count": 7,
   "id": "84f52125",
   "metadata": {},
   "outputs": [
    {
     "name": "stderr",
     "output_type": "stream",
     "text": [
      "Ya existe el subdirectorio o el archivo modelos_propios.\n"
     ]
    }
   ],
   "source": [
    "!mkdir modelos_propios"
   ]
  },
  {
   "cell_type": "code",
   "execution_count": 8,
   "id": "a976bc70",
   "metadata": {},
   "outputs": [],
   "source": [
    "np.save(\"./modelos_propios/cuarto\",cuarto)"
   ]
  },
  {
   "attachments": {},
   "cell_type": "markdown",
   "id": "4b2634fc",
   "metadata": {},
   "source": [
    "### DIO chiquito"
   ]
  },
  {
   "cell_type": "code",
   "execution_count": 98,
   "id": "11026caf",
   "metadata": {},
   "outputs": [],
   "source": [
    "cara = [\n",
    "        (0.75, 0, 0.5), (0.75,1.0,0.5),\n",
    "        (0, 1.0, 0.5), (0, 0, 0.5)\n",
    "    ]\n",
    "texCoords = [\n",
    "       (1.0, 1.0), (0.0, 1.0),\n",
    "       (0.0, 0.0), (1.0, 0.0)\n",
    "]"
   ]
  },
  {
   "cell_type": "code",
   "execution_count": 99,
   "id": "11464b48",
   "metadata": {},
   "outputs": [],
   "source": [
    "orden = [0,1,2,3]"
   ]
  },
  {
   "cell_type": "code",
   "execution_count": 100,
   "id": "6210e075",
   "metadata": {},
   "outputs": [],
   "source": [
    "normal = (0.0, 0.0, 1.0)"
   ]
  },
  {
   "cell_type": "code",
   "execution_count": 101,
   "id": "9a03c019",
   "metadata": {},
   "outputs": [],
   "source": [
    "DIO_chiquito = []"
   ]
  },
  {
   "cell_type": "code",
   "execution_count": 102,
   "id": "2ca31b35",
   "metadata": {},
   "outputs": [],
   "source": [
    "for i in orden:\n",
    "        DIO_chiquito.extend(texCoords[i][::-1])\n",
    "        DIO_chiquito.extend(normal)\n",
    "        DIO_chiquito.extend(cara[i])\n",
    "        "
   ]
  },
  {
   "cell_type": "code",
   "execution_count": 103,
   "id": "3fc6b79b",
   "metadata": {},
   "outputs": [],
   "source": [
    "DIO_chiquito = np.array(DIO_chiquito, dtype=\"f4\")"
   ]
  },
  {
   "cell_type": "code",
   "execution_count": 104,
   "id": "d0058ea5",
   "metadata": {},
   "outputs": [
    {
     "data": {
      "text/plain": [
       "(32,)"
      ]
     },
     "execution_count": 104,
     "metadata": {},
     "output_type": "execute_result"
    }
   ],
   "source": [
    "DIO_chiquito.shape"
   ]
  },
  {
   "cell_type": "code",
   "execution_count": 105,
   "id": "0e074e9e",
   "metadata": {},
   "outputs": [
    {
     "data": {
      "text/plain": [
       "array([[1.  , 1.  , 0.  , 0.  , 1.  , 0.75, 0.  , 0.5 ],\n",
       "       [1.  , 0.  , 0.  , 0.  , 1.  , 0.75, 1.  , 0.5 ],\n",
       "       [0.  , 0.  , 0.  , 0.  , 1.  , 0.  , 1.  , 0.5 ],\n",
       "       [0.  , 1.  , 0.  , 0.  , 1.  , 0.  , 0.  , 0.5 ]], dtype=float32)"
      ]
     },
     "execution_count": 105,
     "metadata": {},
     "output_type": "execute_result"
    }
   ],
   "source": [
    "DIO_chiquito.reshape(4,8)"
   ]
  },
  {
   "cell_type": "code",
   "execution_count": 106,
   "id": "ec6426da",
   "metadata": {},
   "outputs": [],
   "source": [
    "np.save(\"./modelos_propios/DIO_chiquito\",DIO_chiquito)"
   ]
  },
  {
   "cell_type": "code",
   "execution_count": 107,
   "id": "1fc0d1f3",
   "metadata": {},
   "outputs": [
    {
     "data": {
      "text/plain": [
       "array([1.  , 1.  , 0.  , 0.  , 1.  , 0.75, 0.  , 0.5 , 1.  , 0.  , 0.  ,\n",
       "       0.  , 1.  , 0.75, 1.  , 0.5 , 0.  , 0.  , 0.  , 0.  , 1.  , 0.  ,\n",
       "       1.  , 0.5 , 0.  , 1.  , 0.  , 0.  , 1.  , 0.  , 0.  , 0.5 ],\n",
       "      dtype=float32)"
      ]
     },
     "execution_count": 107,
     "metadata": {},
     "output_type": "execute_result"
    }
   ],
   "source": [
    "np.load(\"./modelos_propios/DIO_chiquito.npy\")"
   ]
  },
  {
   "cell_type": "code",
   "execution_count": 18,
   "id": "e9a9bd57",
   "metadata": {},
   "outputs": [],
   "source": [
    "konoDio = []"
   ]
  },
  {
   "cell_type": "code",
   "execution_count": 19,
   "id": "7b17cb55",
   "metadata": {},
   "outputs": [],
   "source": [
    "for j,index in enumerate(caras[-1]):\n",
    "    konoDio.extend(vertices_textura[j])\n",
    "    konoDio.extend(normales[i])\n",
    "    konoDio.extend(vertices[index])"
   ]
  },
  {
   "cell_type": "code",
   "execution_count": 20,
   "id": "015747e0",
   "metadata": {},
   "outputs": [
    {
     "data": {
      "text/plain": [
       "(32,)"
      ]
     },
     "execution_count": 20,
     "metadata": {},
     "output_type": "execute_result"
    }
   ],
   "source": [
    "konoDio = np.array(konoDio)\n",
    "konoDio.shape"
   ]
  },
  {
   "cell_type": "code",
   "execution_count": 21,
   "id": "39416bb3",
   "metadata": {},
   "outputs": [
    {
     "data": {
      "text/plain": [
       "array([[ 0. ,  0. ,  0. ,  0. , -1. ,  1.5, -1. ,  1. ],\n",
       "       [-1. ,  0. ,  0. ,  0. , -1. ,  1.5,  1. ,  1. ],\n",
       "       [-1. ,  1. ,  0. ,  0. , -1. , -1.5,  1. ,  1. ],\n",
       "       [ 0. ,  1. ,  0. ,  0. , -1. , -1.5, -1. ,  1. ]])"
      ]
     },
     "execution_count": 21,
     "metadata": {},
     "output_type": "execute_result"
    }
   ],
   "source": [
    "konoDio.reshape(4,8)"
   ]
  },
  {
   "cell_type": "code",
   "execution_count": 22,
   "id": "c23ff049",
   "metadata": {},
   "outputs": [],
   "source": [
    "np.save(\"./modelos_propios/konoDioDa\",konoDio)"
   ]
  },
  {
   "cell_type": "code",
   "execution_count": null,
   "id": "003263d5",
   "metadata": {},
   "outputs": [],
   "source": []
  }
 ],
 "metadata": {
  "kernelspec": {
   "display_name": "Python 3 (ipykernel)",
   "language": "python",
   "name": "python3"
  },
  "language_info": {
   "codemirror_mode": {
    "name": "ipython",
    "version": 3
   },
   "file_extension": ".py",
   "mimetype": "text/x-python",
   "name": "python",
   "nbconvert_exporter": "python",
   "pygments_lexer": "ipython3",
   "version": "3.10.11"
  }
 },
 "nbformat": 4,
 "nbformat_minor": 5
}
